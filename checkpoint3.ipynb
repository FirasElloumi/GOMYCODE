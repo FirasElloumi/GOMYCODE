{
 "cells": [
  {
   "cell_type": "code",
   "execution_count": 4,
   "metadata": {},
   "outputs": [
    {
     "name": "stdout",
     "output_type": "stream",
     "text": [
      "Donner la longueur de la liste4\n",
      "Give numbres;2\n",
      "Give numbres;3\n",
      "Give numbres;4\n",
      "Give numbres;5.5\n",
      "[2.0, 3.0, 4.0, 5.5]\n"
     ]
    },
    {
     "data": {
      "text/plain": [
       "132.0"
      ]
     },
     "execution_count": 4,
     "metadata": {},
     "output_type": "execute_result"
    }
   ],
   "source": [
    "#question1;\n",
    "list=[]\n",
    "x=1\n",
    "l=int(input(\"Donner la longueur de la liste\"))\n",
    "for i in range(0,l,1):\n",
    "    n=float(input(\"Give numbres;\"))\n",
    "    list.append(n)\n",
    "    x=x*n\n",
    "print(list)\n",
    "x"
   ]
  },
  {
   "cell_type": "code",
   "execution_count": 2,
   "metadata": {},
   "outputs": [
    {
     "name": "stdout",
     "output_type": "stream",
     "text": [
      "[(2, 1), (1, 2), (2, 3), (4, 4), (2, 5)]\n"
     ]
    }
   ],
   "source": [
    "#question2;\n",
    "def last(T): return T[-1]\n",
    "\n",
    "def sort_list_last(tuples):\n",
    "    return sorted(tuples, key=last)\n",
    "\n",
    "print(sort_list_last([(2, 5), (1, 2), (4, 4), (2, 3), (2, 1)]))"
   ]
  },
  {
   "cell_type": "code",
   "execution_count": 9,
   "metadata": {},
   "outputs": [
    {
     "name": "stdout",
     "output_type": "stream",
     "text": [
      "Donner la langueur du dictionnaire : 2\n",
      "Donner le key : a\n",
      "Donner la valeur : 26\n",
      "Donner le key : d\n",
      "Donner la valeur : 84\n",
      "Donner le key2 : a\n",
      "Donner la valeur2 : 4\n",
      "Donner le key2 : d\n",
      "Donner la valeur2 : 16\n",
      "{'a': 26, 'd': 84} {'a': 4, 'd': 16}\n",
      "{'a': 30, 'd': 100}\n"
     ]
    }
   ],
   "source": [
    "#question3;\n",
    "from collections import Counter\n",
    "n=int(input(\"Donner la langueur du dictionnaire : \"))\n",
    "d1={}\n",
    "d2={}\n",
    "for i in range(n):\n",
    "    x=input(\"Donner le key : \")\n",
    "    y=int(input(\"Donner la valeur : \"))\n",
    "    d1[x]=y\n",
    "for i in range(n):\n",
    "    a=input(\"Donner le key2 : \")\n",
    "    b=int(input(\"Donner la valeur2 : \"))\n",
    "    d2[a]=b \n",
    "print(d1,d2)\n",
    "d3={}\n",
    "for x, y in d1.items():\n",
    "    for a, b in d2.items():\n",
    "        if x == a:\n",
    "            d3[x]=int(y+b)\n",
    "print(str (d3))"
   ]
  },
  {
   "cell_type": "code",
   "execution_count": 1,
   "metadata": {},
   "outputs": [
    {
     "name": "stdout",
     "output_type": "stream",
     "text": [
      "Enter a number:9\n",
      "{1: 1, 2: 4, 3: 9, 4: 16, 5: 25, 6: 36, 7: 49, 8: 64, 9: 81}\n"
     ]
    }
   ],
   "source": [
    "#question4;\n",
    "n=int(input(\"Enter a number:\"))\n",
    "d={x:x*x for x in range(1,n+1)}\n",
    "print(d)"
   ]
  },
  {
   "cell_type": "code",
   "execution_count": 12,
   "metadata": {},
   "outputs": [
    {
     "name": "stdout",
     "output_type": "stream",
     "text": [
      "Entrer le nombre de tuples3\n",
      "Entrer item : y\n",
      "Entrez le float : 58\n",
      "Entrer item : r\n",
      "Entrez le float : 683.56\n",
      "Entrer item : d\n",
      "Entrez le float : 56.3\n",
      "Sorted:\n",
      "[('d', 56.3), ('y', 58.0), ('r', 683.56)]\n"
     ]
    }
   ],
   "source": [
    "#question5;\n",
    "def last(n):\n",
    "    return n[-1]  \n",
    " \n",
    "def sort(tuples):\n",
    "    return sorted(tuples, key=last)\n",
    " \n",
    "n=int(input(\"Entrer le nombre de tuples\"))\n",
    "t=()\n",
    "l=[]\n",
    "\n",
    "for i in range (n):\n",
    "    x=str(input(\"Entrer item : \"))\n",
    "    y=float(input(\"Entrez le float : \"))\n",
    "    t=(x,y)\n",
    "    l.append(t)    \n",
    "l \n",
    "\n",
    "print(\"Sorted:\")\n",
    "print(sort(l))"
   ]
  }
 ],
 "metadata": {
  "kernelspec": {
   "display_name": "Python 3",
   "language": "python",
   "name": "python3"
  },
  "language_info": {
   "codemirror_mode": {
    "name": "ipython",
    "version": 3
   },
   "file_extension": ".py",
   "mimetype": "text/x-python",
   "name": "python",
   "nbconvert_exporter": "python",
   "pygments_lexer": "ipython3",
   "version": "3.7.6"
  }
 },
 "nbformat": 4,
 "nbformat_minor": 4
}
