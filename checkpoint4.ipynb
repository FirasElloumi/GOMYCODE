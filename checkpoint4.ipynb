{
 "cells": [
  {
   "cell_type": "code",
   "execution_count": 32,
   "metadata": {},
   "outputs": [
    {
     "name": "stdout",
     "output_type": "stream",
     "text": [
      "give a list of numbers: 20-35-19\n",
      "35.0\n"
     ]
    }
   ],
   "source": [
    "#question1;\n",
    "def findMax3(lst):\n",
    "    y = lst[:]\n",
    "    y.sort()\n",
    "    return y[-1]\n",
    "\n",
    "lst =[float(x) for x in input(\"give a list of numbers: \").split('-')]\n",
    "print(findMax3 (lst))"
   ]
  },
  {
   "cell_type": "code",
   "execution_count": 39,
   "metadata": {},
   "outputs": [
    {
     "name": "stdout",
     "output_type": "stream",
     "text": [
      "give number1: 2\n",
      "give number2: 3\n",
      "( 2 , 3 )\n",
      "result:\n",
      "( 5 , -1 )\n"
     ]
    }
   ],
   "source": [
    "#question2;\n",
    "a=int(input(\"give number1: \"))\n",
    "b=int(input(\"give number2: \"))\n",
    "print(\"(\",a,\",\",b,\")\")\n",
    "x=a+b\n",
    "y=a-b\n",
    "print(\"result:\")\n",
    "print(\"(\",x,\",\",y,\")\")"
   ]
  },
  {
   "cell_type": "code",
   "execution_count": 86,
   "metadata": {},
   "outputs": [
    {
     "name": "stdout",
     "output_type": "stream",
     "text": [
      "[11, 5, 17, 18, 23]\n",
      "74\n",
      "[11, 5, 17, 18, 23]\n",
      "387090\n",
      "[11, 5, 17, 18, 23]\n",
      "L1 = [11, 17, 23]\n",
      "L2 =  [5, 18]\n",
      "51 90\n"
     ]
    }
   ],
   "source": [
    "#question3;\n",
    "def addition(L): #addition\n",
    "    s=0\n",
    "    for i in L:\n",
    "        s=s+i\n",
    "    return s\n",
    "    \n",
    "def multiply(L2):  #multiplication\n",
    "    total = 1\n",
    "    for x in L2:\n",
    "        total=total*x  \n",
    "    return total\n",
    "\n",
    "list2=[11, 5, 17, 18, 23]\n",
    "\n",
    "print(list2)\n",
    "print(addition(list2))\n",
    "print(list2)\n",
    "print(multiply(list2))\n",
    "def fct (list2):\n",
    "    L1=[]\n",
    "    L2=[]\n",
    "    for i in range(len(list2)):\n",
    "        if i%2==0:\n",
    "            L1.append(list2[i])\n",
    "        else:\n",
    "            L2.append(list2[i])\n",
    "    print(list2)\n",
    "    print(\"L1 =\" ,L1)\n",
    "    print(\"L2 = \", L2)\n",
    "    print(addition(L1),multiply(L2))\n",
    "\n",
    "list2=[11, 5, 17, 18, 23]\n",
    "fct(list2)"
   ]
  },
  {
   "cell_type": "code",
   "execution_count": 28,
   "metadata": {},
   "outputs": [
    {
     "name": "stdout",
     "output_type": "stream",
     "text": [
      "green-red-yellow-black-white\n",
      "['black', 'green', 'red', 'white', 'yellow']\n"
     ]
    }
   ],
   "source": [
    "#question4;\n",
    "var=[n for n in input().split('-')]\n",
    "var.sort()\n",
    "print(var)"
   ]
  },
  {
   "cell_type": "code",
   "execution_count": 43,
   "metadata": {},
   "outputs": [
    {
     "name": "stdout",
     "output_type": "stream",
     "text": [
      "Give number D: 100 200 300\n",
      "[18, 26, 32]\n"
     ]
    }
   ],
   "source": [
    "#question5;\n",
    "import math\n",
    "\n",
    "numbers = input(\"Give number D: \")\n",
    "numbers = numbers.split()\n",
    "\n",
    "result_list = []\n",
    "for D in numbers:\n",
    "    Q =round(math.sqrt(2 * 50 * int(D) / 30))\n",
    "    result_list.append(Q)\n",
    "print(result_list)"
   ]
  }
 ],
 "metadata": {
  "kernelspec": {
   "display_name": "Python 3",
   "language": "python",
   "name": "python3"
  },
  "language_info": {
   "codemirror_mode": {
    "name": "ipython",
    "version": 3
   },
   "file_extension": ".py",
   "mimetype": "text/x-python",
   "name": "python",
   "nbconvert_exporter": "python",
   "pygments_lexer": "ipython3",
   "version": "3.7.6"
  }
 },
 "nbformat": 4,
 "nbformat_minor": 4
}
