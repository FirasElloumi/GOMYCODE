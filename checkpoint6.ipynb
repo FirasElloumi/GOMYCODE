{
 "cells": [
  {
   "cell_type": "code",
   "execution_count": 20,
   "metadata": {},
   "outputs": [
    {
     "name": "stdout",
     "output_type": "stream",
     "text": [
      "donnez le nombre de lignes:3\n",
      "donnez le nombre des colomne:5\n",
      "Donnez la longeur de votre liste:15\n",
      "\u001b[31myour array:  [[ 0  1  2  3  4]\n",
      " [ 5  6  7  8  9]\n",
      " [10 11 12 13 14]]\n",
      "\u001b[32myour list:  [[0, 1, 2, 3, 4], [5, 6, 7, 8, 9], [10, 11, 12, 13, 14]]\n"
     ]
    }
   ],
   "source": [
    "#1 \n",
    "import numpy as np\n",
    "from colorama import Fore, Back, Style\n",
    "a=int(input(\"donnez le nombre de lignes:\"))\n",
    "b=int(input(\"donnez le nombre des colomne:\"))\n",
    "c=int(input(\"Donnez la longeur de votre liste:\"))\n",
    "k=np.arange(c).reshape(a,b)\n",
    "l=k.tolist()\n",
    "print(Fore.RED+\"your array: \",k)\n",
    "print(Fore.GREEN+\"your list: \",l)"
   ]
  },
  {
   "cell_type": "code",
   "execution_count": 4,
   "metadata": {},
   "outputs": [
    {
     "name": "stdout",
     "output_type": "stream",
     "text": [
      "your array: [[6.24635858 5.62171228 7.46693103]\n",
      " [9.9948954  7.742704   6.42659931]\n",
      " [7.08793301 2.60706468 8.06793924]]\n",
      "\u001b[31mDiagonal elements are: [6.24635858 7.742704   8.06793924]\n",
      "\u001b[32mSum of Diagonal elements is: 22.057001818348695\n"
     ]
    }
   ],
   "source": [
    "#2\n",
    "import numpy as np\n",
    "from colorama import Fore, Back, Style\n",
    "array=np.random.uniform(2, 10, size=(3,3))\n",
    "trace = np.diagonal(array)\n",
    "print(\"your array:\",array)\n",
    "print(Fore.RED+\"Diagonal elements are:\",trace)\n",
    "print(Fore.GREEN+\"Sum of Diagonal elements is:\",sum(trace))"
   ]
  },
  {
   "cell_type": "code",
   "execution_count": 20,
   "metadata": {},
   "outputs": [
    {
     "name": "stdout",
     "output_type": "stream",
     "text": [
      "your array:  [[ 1 25  3]\n",
      " [11  5 22]]\n",
      "\u001b[32mvalues bigger than: [25 11  5 22]\n"
     ]
    }
   ],
   "source": [
    "#3\n",
    "import numpy as np\n",
    "from colorama import Fore, Back, Style\n",
    "a = np.array([[1,25,3],[11,5,22]])\n",
    "x=3\n",
    "print(\"your array: \",a)\n",
    "print(Fore.GREEN+\"values bigger than:\",a[a>x])"
   ]
  },
  {
   "cell_type": "code",
   "execution_count": 25,
   "metadata": {},
   "outputs": [
    {
     "name": "stdout",
     "output_type": "stream",
     "text": [
      "Array A: [ 1  2  3 55]\n",
      "Array B: [ 4  5  6 -1]\n",
      "\u001b[32mArray C:  [ 5  7  9 54]\n"
     ]
    }
   ],
   "source": [
    "#4\n",
    "import numpy as np\n",
    "from colorama import Fore, Back, Style\n",
    "A=np.array([1,2,3,55])\n",
    "b=np.array([4,5,6,-1])\n",
    "\n",
    "for i in range(len(A)):\n",
    "    for j in range(len(b)):\n",
    "        c=np.array(A+b)\n",
    "        \n",
    "print(\"Array A:\",A)\n",
    "print(\"Array B:\",b)\n",
    "print(Fore.GREEN+\"Array C: \",c)"
   ]
  },
  {
   "cell_type": "code",
   "execution_count": 8,
   "metadata": {},
   "outputs": [
    {
     "name": "stdout",
     "output_type": "stream",
     "text": [
      "Original array:\n",
      "[[10 30]\n",
      " [20 60]]\n",
      "\u001b[32mMean of each column:\n",
      "[15. 45.]\n",
      "\u001b[34mMean of each row:\n",
      "[20. 40.]\n"
     ]
    }
   ],
   "source": [
    "#5\n",
    "import numpy as np\n",
    "from colorama import Fore, Back, Style\n",
    "x = np.array([[10, 30], [20, 60]])\n",
    "print(\"Original array:\")\n",
    "print(x)\n",
    "print(Fore.GREEN+\"Mean of each column:\")\n",
    "print(x.mean(axis=0))\n",
    "print(Fore.BLUE+\"Mean of each row:\")\n",
    "print(x.mean(axis=1))"
   ]
  },
  {
   "cell_type": "code",
   "execution_count": null,
   "metadata": {},
   "outputs": [],
   "source": []
  }
 ],
 "metadata": {
  "kernelspec": {
   "display_name": "Python 3",
   "language": "python",
   "name": "python3"
  },
  "language_info": {
   "codemirror_mode": {
    "name": "ipython",
    "version": 3
   },
   "file_extension": ".py",
   "mimetype": "text/x-python",
   "name": "python",
   "nbconvert_exporter": "python",
   "pygments_lexer": "ipython3",
   "version": "3.7.6"
  }
 },
 "nbformat": 4,
 "nbformat_minor": 4
}
