{
 "cells": [
  {
   "cell_type": "code",
   "execution_count": 1,
   "metadata": {
    "scrolled": false
   },
   "outputs": [
    {
     "name": "stdout",
     "output_type": "stream",
     "text": [
      " write your name\n",
      "firas\n",
      "And write your last name\n",
      "elloumi\n",
      "so your name is elloumi firas\n"
     ]
    }
   ],
   "source": [
    "#question1;\n",
    "print(\" write your name\")\n",
    "str1 = input()\n",
    "print(\"And write your last name\")\n",
    "str2 = input()\n",
    "print( \"so your name is \" + str2 + \" \" + str1)"
   ]
  },
  {
   "cell_type": "code",
   "execution_count": 55,
   "metadata": {},
   "outputs": [
    {
     "name": "stdout",
     "output_type": "stream",
     "text": [
      "write n= 5\n",
      "615\n"
     ]
    }
   ],
   "source": [
    "#question2;\n",
    "x = int (input (\"write n= \"))\n",
    "str1 = str(x)    \n",
    "str2 =str1 + str1\n",
    "str3=str2 + str1\n",
    "print(x+int(str2)+int(str3))"
   ]
  },
  {
   "cell_type": "code",
   "execution_count": 6,
   "metadata": {
    "scrolled": true
   },
   "outputs": [
    {
     "name": "stdout",
     "output_type": "stream",
     "text": [
      "write your number\n",
      "9292\n",
      "the number is even\n"
     ]
    }
   ],
   "source": [
    "#question3;\n",
    "print(\"write your number\")\n",
    "x = int(input())\n",
    "if x%2==0:\n",
    "    print (\"the number is even\")\n",
    "else:\n",
    "    print (\"the number is odd\")"
   ]
  },
  {
   "cell_type": "code",
   "execution_count": 7,
   "metadata": {
    "scrolled": true
   },
   "outputs": [
    {
     "name": "stdout",
     "output_type": "stream",
     "text": [
      "2002 2009 2016 2023 2037 2044 2051 2058 2072 2079 2086 2093 2107 2114 2121 2128 2142 2149 2156 2163 2177 2184 2191 2198 2212 2219 2226 2233 2247 2254 2261 2268 2282 2289 2296 2303 2317 2324 2331 2338 2352 2359 2366 2373 2387 2394 2401 2408 2422 2429 2436 2443 2457 2464 2471 2478 2492 2499 2506 2513 2527 2534 2541 2548 2562 2569 2576 2583 2597 2604 2611 2618 2632 2639 2646 2653 2667 2674 2681 2688 2702 2709 2716 2723 2737 2744 2751 2758 2772 2779 2786 2793 2807 2814 2821 2828 2842 2849 2856 2863 2877 2884 2891 2898 2912 2919 2926 2933 2947 2954 2961 2968 2982 2989 2996 3003 3017 3024 3031 3038 3052 3059 3066 3073 3087 3094 3101 3108 3122 3129 3136 3143 3157 3164 3171 3178 3192 3199 "
     ]
    }
   ],
   "source": [
    "#question4;\n",
    "for x in range(2000,3201):#begin\n",
    "    if x%7==0 and x%5!=0:\n",
    "        print(x,end=\" \")#end"
   ]
  },
  {
   "cell_type": "code",
   "execution_count": 9,
   "metadata": {},
   "outputs": [
    {
     "name": "stdout",
     "output_type": "stream",
     "text": [
      "Input a number to compute the factiorial : 3\n",
      "6\n"
     ]
    }
   ],
   "source": [
    "#question5;\n",
    "def factorial(n):\n",
    "    if n == 0:\n",
    "        return 1\n",
    "    else:\n",
    "        return n * factorial(n-1)\n",
    "n=int(input(\"Input a number to compute the factiorial : \"))\n",
    "print(factorial(n))"
   ]
  },
  {
   "cell_type": "code",
   "execution_count": 10,
   "metadata": {},
   "outputs": [
    {
     "name": "stdout",
     "output_type": "stream",
     "text": [
      "donner un mot; hello team\n",
      " hlota\n"
     ]
    }
   ],
   "source": [
    "#question6;\n",
    "def odd_values_string(ch):\n",
    "    result = \" \"\n",
    "    for x in range(len(ch)):\n",
    "            if x % 2 == 0:\n",
    "                result = result + ch[x]\n",
    "    return result\n",
    "s=input(\"donner un mot; \")\n",
    "print(odd_values_string (s))"
   ]
  },
  {
   "cell_type": "code",
   "execution_count": 11,
   "metadata": {},
   "outputs": [
    {
     "name": "stdout",
     "output_type": "stream",
     "text": [
      "write the price1000\n",
      "500.0\n"
     ]
    }
   ],
   "source": [
    "#question7;\n",
    "x = int (input(\"write the price\"))\n",
    "if x>500:\n",
    "    print(x/2)\n",
    "if 200<=x<=500:\n",
    "    disc=x*0.3\n",
    "    print(disc)\n",
    "if x<200:\n",
    "    disc=x*0.1\n",
    "    print(disc)"
   ]
  }
 ],
 "metadata": {
  "kernelspec": {
   "display_name": "Python 3",
   "language": "python",
   "name": "python3"
  },
  "language_info": {
   "codemirror_mode": {
    "name": "ipython",
    "version": 3
   },
   "file_extension": ".py",
   "mimetype": "text/x-python",
   "name": "python",
   "nbconvert_exporter": "python",
   "pygments_lexer": "ipython3",
   "version": "3.7.6"
  }
 },
 "nbformat": 4,
 "nbformat_minor": 4
}
