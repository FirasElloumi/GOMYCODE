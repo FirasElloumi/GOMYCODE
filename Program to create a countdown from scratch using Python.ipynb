{
 "cells": [
  {
   "cell_type": "code",
   "execution_count": 8,
   "metadata": {},
   "outputs": [
    {
     "name": "stdout",
     "output_type": "stream",
     "text": [
      "enter the time in seconds:60\n",
      "\u001b[32mFire in the hole!!\n"
     ]
    }
   ],
   "source": [
    "from colorama import Fore, Back, Style\n",
    "import time\n",
    "def countdown(t):\n",
    "    while t:\n",
    "        minutes,second=divmod(t,60)\n",
    "        a='{:02d}:{:02d}'.format(minutes,second)\n",
    "        print(a,end = \"\\r\")\n",
    "        time.sleep(1)               \n",
    "        t -= 1\n",
    "    print(Fore.GREEN+\"Fire in the hole!!\")   \n",
    "a=int(input(\"enter the time in seconds:\"))\n",
    "countdown(a)"
   ]
  },
  {
   "cell_type": "code",
   "execution_count": null,
   "metadata": {},
   "outputs": [],
   "source": []
  }
 ],
 "metadata": {
  "kernelspec": {
   "display_name": "Python 3",
   "language": "python",
   "name": "python3"
  },
  "language_info": {
   "codemirror_mode": {
    "name": "ipython",
    "version": 3
   },
   "file_extension": ".py",
   "mimetype": "text/x-python",
   "name": "python",
   "nbconvert_exporter": "python",
   "pygments_lexer": "ipython3",
   "version": "3.7.6"
  }
 },
 "nbformat": 4,
 "nbformat_minor": 4
}
