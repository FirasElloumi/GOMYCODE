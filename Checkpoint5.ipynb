{
 "cells": [
  {
   "cell_type": "code",
   "execution_count": 88,
   "metadata": {},
   "outputs": [
    {
     "name": "stdout",
     "output_type": "stream",
     "text": [
      "x=1 ; y=2 ; z=3\n"
     ]
    }
   ],
   "source": [
    "#1\n",
    "class Point3D(object):\n",
    "    def __init__(self, x,y,z):\n",
    "        self.x = x\n",
    "        self.y = y\n",
    "        self.z = z\n",
    "    def __repr__(self):\n",
    "        return \"x={} ; y={} ; z={}\" .format(self.x, self.y, self.z)\n",
    "        \n",
    "my_point = Point3D(1,2,3)\n",
    "print (my_point)"
   ]
  },
  {
   "cell_type": "code",
   "execution_count": 33,
   "metadata": {},
   "outputs": [
    {
     "name": "stdout",
     "output_type": "stream",
     "text": [
      "length=4 width=3\n",
      "area: 4*3=12\n",
      "perimeter: (4+3)*2=14\n"
     ]
    }
   ],
   "source": [
    "#2\n",
    "class Rectangle:\n",
    "    def __init__(self,length,width):\n",
    "        self.length=length\n",
    "        self.width=width \n",
    "    def __repr__(self):\n",
    "        return \"length={} width={}\"  .format(self.length, self.width)\n",
    "    def Rectangle_area(self):\n",
    "        return  \"area: 4*3={}\"              .format(self.length*self.width)\n",
    "    def Rectangle_perimeter(self):\n",
    "        return  \"perimeter: (4+3)*2={}\"              .format(2*(self.length+self.width))\n",
    "my_rectangle= Rectangle(4,3)\n",
    "print(my_rectangle)\n",
    "print(my_rectangle.Rectangle_area())\n",
    "print(my_rectangle.Rectangle_perimeter())"
   ]
  },
  {
   "cell_type": "code",
   "execution_count": 34,
   "metadata": {},
   "outputs": [
    {
     "name": "stdout",
     "output_type": "stream",
     "text": [
      "length of radius= 7\n",
      "\u001b[31mperimeter: 2 × 3.141592653589793 × 7 =\n",
      " 43.982297150257104 cm\n",
      "\u001b[33marea: 3.141592653589793 × 7 × 2\n",
      " 153.93804002589985 cm2\n"
     ]
    }
   ],
   "source": [
    "#3\n",
    "from colorama import Fore, Back, Style\n",
    "from math import pi\n",
    "class circle:\n",
    "    def __init__(self,radius):\n",
    "        self.radius=radius\n",
    "        \n",
    "    def perimeter(self):\n",
    "        print(Fore.RED+\"perimeter:\"\" 2 ×\",pi,\"×\",n,\"=\")\n",
    "        return \" {} cm\" .format(2*pi*self.radius)\n",
    "    \n",
    "    def area(self):\n",
    "        print(Fore.YELLOW+\"area:\" ,pi,\"×\",n,\"× 2\")\n",
    "        return \" {} cm2\" .format(pi*self.radius**2)\n",
    "n=int(input(\"length of radius= \"))\n",
    "radius=circle(n)\n",
    "\n",
    "print(radius.perimeter())\n",
    "print(radius.area())\n"
   ]
  },
  {
   "cell_type": "code",
   "execution_count": 24,
   "metadata": {},
   "outputs": [
    {
     "name": "stdout",
     "output_type": "stream",
     "text": [
      "welcome to your bank account!! \n",
      "enter amount to be deposit:900\n",
      "enter amount to be withdraw: 400\n",
      "your new amount is :500.0\n",
      "\u001b[32mOperation completed successfully,\n",
      "\u001b[32mGood bye, see you later!!\n"
     ]
    }
   ],
   "source": [
    "#4\n",
    "from colorama import Fore, Back, Style\n",
    "class bank:\n",
    "    def __init__(self,deposit,withdraw):\n",
    "        self.deposit=deposit\n",
    "        self.withdraw=withdraw\n",
    "    def new_amount(self):\n",
    "        return \"your new amount is :{}\".format(self.deposit-self.withdraw)\n",
    "print(\"welcome to your bank account!! \")\n",
    "n=float(input(\"enter amount to be deposit:\"))\n",
    "y=float(input(\"enter amount to be withdraw: \"))\n",
    "val=bank(n,y)\n",
    "if n>y:\n",
    "    print(val.new_amount())\n",
    "    print(Fore.GREEN+\"Operation completed successfully,\")\n",
    "    print(Fore.GREEN+\"Good bye, see you later!!\")\n",
    "else: \n",
    "    print(Fore.RED+\"there is an error!\")\n",
    "    print(Fore.RED+\"try again!!\")"
   ]
  },
  {
   "cell_type": "code",
   "execution_count": null,
   "metadata": {},
   "outputs": [],
   "source": []
  }
 ],
 "metadata": {
  "kernelspec": {
   "display_name": "Python 3",
   "language": "python",
   "name": "python3"
  },
  "language_info": {
   "codemirror_mode": {
    "name": "ipython",
    "version": 3
   },
   "file_extension": ".py",
   "mimetype": "text/x-python",
   "name": "python",
   "nbconvert_exporter": "python",
   "pygments_lexer": "ipython3",
   "version": "3.7.6"
  }
 },
 "nbformat": 4,
 "nbformat_minor": 4
}
